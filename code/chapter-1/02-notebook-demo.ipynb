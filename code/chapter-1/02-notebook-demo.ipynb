{
 "cells": [
  {
   "cell_type": "markdown",
   "metadata": {},
   "source": [
    "# 这里是Markdown单元格"
   ]
  },
  {
   "cell_type": "code",
   "metadata": {
    "pycharm": {
     "is_executing": false
    },
    "ExecuteTime": {
     "end_time": "2024-08-06T01:51:54.583027Z",
     "start_time": "2024-08-06T01:51:52.397542Z"
    }
   },
   "source": [
    "import torch\n",
    "\n",
    "print(\"Hello World, Hello PyTorch {}\".format(torch.__version__))\n",
    "\n",
    "print(\"\\nCUDA is available:{}, version is {}\".format(torch.cuda.is_available(), torch.version.cuda))\n",
    "\n",
    "print(\"\\ndevice_name: {}\".format(torch.cuda.get_device_name(0)))"
   ],
   "outputs": [
    {
     "name": "stdout",
     "output_type": "stream",
     "text": [
      "Hello World, Hello PyTorch 2.4.0\n",
      "\n",
      "CUDA is available:True, version is 12.1\n",
      "\n",
      "device_name: NVIDIA GeForce GTX 1650\n"
     ]
    }
   ],
   "execution_count": 1
  },
  {
   "cell_type": "markdown",
   "metadata": {},
   "source": [
    "# 两个神奇操作\n",
    "! 以及 %% 使用"
   ]
  },
  {
   "cell_type": "code",
   "metadata": {
    "scrolled": true,
    "ExecuteTime": {
     "end_time": "2024-08-05T05:24:26.288706Z",
     "start_time": "2024-08-05T05:24:25.504305Z"
    }
   },
   "source": [
    "!nvidia-smi\n",
    "!time /t\n",
    "!dir"
   ],
   "outputs": [
    {
     "name": "stdout",
     "output_type": "stream",
     "text": [
      "Mon Aug  5 13:24:25 2024       \n",
      "+---------------------------------------------------------------------------------------+\n",
      "| NVIDIA-SMI 546.33                 Driver Version: 546.33       CUDA Version: 12.3     |\n",
      "|-----------------------------------------+----------------------+----------------------+\n",
      "| GPU  Name                     TCC/WDDM  | Bus-Id        Disp.A | Volatile Uncorr. ECC |\n",
      "| Fan  Temp   Perf          Pwr:Usage/Cap |         Memory-Usage | GPU-Util  Compute M. |\n",
      "|                                         |                      |               MIG M. |\n",
      "|=========================================+======================+======================|\n",
      "|   0  NVIDIA GeForce GTX 1650      WDDM  | 00000000:01:00.0  On |                  N/A |\n",
      "| N/A   44C    P8               2W /  50W |   2030MiB /  4096MiB |      5%      Default |\n",
      "|                                         |                      |                  N/A |\n",
      "+-----------------------------------------+----------------------+----------------------+\n",
      "                                                                                         \n",
      "+---------------------------------------------------------------------------------------+\n",
      "| Processes:                                                                            |\n",
      "|  GPU   GI   CI        PID   Type   Process name                            GPU Memory |\n",
      "|        ID   ID                                                             Usage      |\n",
      "|=======================================================================================|\n",
      "|    0   N/A  N/A      2920    C+G   G:\\Soda Music\\1.6.9\\SodaMusic.exe         N/A      |\n",
      "|    0   N/A  N/A      4980    C+G   ...t.LockApp_cw5n1h2txyewy\\LockApp.exe    N/A      |\n",
      "|    0   N/A  N/A      5980    C+G   C:\\Windows\\explorer.exe                   N/A      |\n",
      "|    0   N/A  N/A      6068    C+G   ...2txyewy\\StartMenuExperienceHost.exe    N/A      |\n",
      "|    0   N/A  N/A      6576    C+G   G:\\QQNT\\QQ.exe                            N/A      |\n",
      "|    0   N/A  N/A      8980    C+G   ...crosoft\\Edge\\Application\\msedge.exe    N/A      |\n",
      "|    0   N/A  N/A     10096    C+G   ...3\\extracted\\runtime\\WeChatAppEx.exe    N/A      |\n",
      "|    0   N/A  N/A     14084    C+G   ...CBS_cw5n1h2txyewy\\TextInputHost.exe    N/A      |\n",
      "|    0   N/A  N/A     15340    C+G   ...on\\wallpaper_engine\\wallpaper32.exe    N/A      |\n",
      "|    0   N/A  N/A     15624    C+G   ....Search_cw5n1h2txyewy\\SearchApp.exe    N/A      |\n",
      "|    0   N/A  N/A     16940    C+G   ...5n1h2txyewy\\ShellExperienceHost.exe    N/A      |\n",
      "|    0   N/A  N/A     23300    C+G   ...nipaste-2.7.3-Beta-x64\\Snipaste.exe    N/A      |\n",
      "|    0   N/A  N/A     27092    C+G   ...1.0_x64__8wekyb3d8bbwe\\Video.UI.exe    N/A      |\n",
      "|    0   N/A  N/A     28252    C+G   ...64__8wekyb3d8bbwe\\CalculatorApp.exe    N/A      |\n",
      "|    0   N/A  N/A     29332    C+G   ...7147\\office6\\promecefpluginhost.exe    N/A      |\n",
      "|    0   N/A  N/A     30940    C+G   ...\\cef\\cef.win7x64\\steamwebhelper.exe    N/A      |\n",
      "|    0   N/A  N/A     31012    C+G   ...\\cef\\cef.win7x64\\steamwebhelper.exe    N/A      |\n",
      "|    0   N/A  N/A     34156    C+G   ...7147\\office6\\promecefpluginhost.exe    N/A      |\n",
      "+---------------------------------------------------------------------------------------+\n",
      "13:24\n",
      " 驱动器 E 中的卷没有标签。\n",
      " 卷的序列号是 09C1-B27D\n",
      "\n",
      " E:\\PyTorch-Tutorial-2nd\\code\\chapter-1 的目录\n",
      "\n",
      "2024/08/05  13:24    <DIR>          .\n",
      "2024/08/05  13:24    <DIR>          ..\n",
      "2024/07/17  13:57               419 01-hello-pytorch.py\n",
      "2024/08/05  13:24             5,103 02-notebook-demo.ipynb\n",
      "2024/08/05  11:28             6,123 03-torch-compile-performance.py\n",
      "2024/07/17  13:57            11,748 03-torch-compile.ipynb\n",
      "               4 个文件         23,393 字节\n",
      "               2 个目录 60,119,654,400 可用字节\n"
     ]
    }
   ],
   "execution_count": 2
  },
  {
   "cell_type": "code",
   "metadata": {
    "ExecuteTime": {
     "end_time": "2024-08-05T05:24:57.493043Z",
     "start_time": "2024-08-05T05:24:51.227829Z"
    }
   },
   "source": [
    "\"\"\"\n",
    "%%timeit 是 Jupyter Notebook 或 Jupyter Lab 中的一个魔法命令（magic command），用于测量并分析单个表达式或代码块的执行时间。它特别适用于对代码性能进行基准测试和比较不同实现的时间效率。\n",
    "\n",
    "注意事项:\n",
    "%%timeit 只能用于单个单元格内的代码。\n",
    "它会多次运行代码以获取平均执行时间，并显示最佳结果。\n",
    "对于多行代码块，确保所有的变量都在代码块内部定义，否则可能会影响执行时间的准确性。\n",
    "\"\"\"\n",
    "%%timeit\n",
    "a = []\n",
    "for i in range(10):\n",
    "    a.append(i)"
   ],
   "outputs": [
    {
     "name": "stdout",
     "output_type": "stream",
     "text": [
      "768 ns ± 35.7 ns per loop (mean ± std. dev. of 7 runs, 1,000,000 loops each)\n"
     ]
    }
   ],
   "execution_count": 3
  },
  {
   "cell_type": "code",
   "metadata": {
    "ExecuteTime": {
     "end_time": "2024-08-05T05:25:24.070176Z",
     "start_time": "2024-08-05T05:25:23.929148Z"
    }
   },
   "source": [
    "\"\"\"\n",
    "%%time 是 Jupyter Notebook 或 Jupyter Lab 中的一个魔法命令（magic command），用于测量代码块的执行时间。与 %%timeit 不同的是，%%time 更适合用来测量较大的代码块或复杂的操作的执行时间。\n",
    "\n",
    "注意事项:\n",
    "%%time 只会在一次执行中测量时间，因此它更适合用于长时间运行的操作。\n",
    "如果你需要对代码块进行多次执行以获取平均执行时间，应该使用 %%timeit。\n",
    "\"\"\"\n",
    "%%time\n",
    "a = []\n",
    "for i in range(1000000):\n",
    "    a.append(i)"
   ],
   "outputs": [
    {
     "name": "stdout",
     "output_type": "stream",
     "text": [
      "CPU times: total: 125 ms\n",
      "Wall time: 125 ms\n"
     ]
    }
   ],
   "execution_count": 4
  }
 ],
 "metadata": {
  "kernelspec": {
   "display_name": "pytorch2.4",
   "language": "python",
   "name": "pytorch2.4"
  },
  "language_info": {
   "codemirror_mode": {
    "name": "ipython",
    "version": 3
   },
   "file_extension": ".py",
   "mimetype": "text/x-python",
   "name": "python",
   "nbconvert_exporter": "python",
   "pygments_lexer": "ipython3",
   "version": "3.11.7"
  },
  "pycharm": {
   "stem_cell": {
    "cell_type": "raw",
    "metadata": {
     "collapsed": false
    },
    "source": []
   }
  }
 },
 "nbformat": 4,
 "nbformat_minor": 4
}
