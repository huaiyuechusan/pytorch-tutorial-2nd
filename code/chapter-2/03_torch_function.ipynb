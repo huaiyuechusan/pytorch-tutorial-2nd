{
 "cells": [
  {
   "metadata": {},
   "cell_type": "markdown",
   "source": [
    "# 1. torch.gather  在指定的轴上，根据给定的index进行索引\n",
    "torch.gather(input, dim, index, *, sparse_grad=False, out=None) → Tensor"
   ],
   "id": "bb7590eb5df0643a"
  },
  {
   "metadata": {
    "ExecuteTime": {
     "end_time": "2024-08-06T11:18:28.750361Z",
     "start_time": "2024-08-06T11:18:28.734788Z"
    }
   },
   "cell_type": "code",
   "source": "import torch",
   "id": "ecfdae7ba118596",
   "outputs": [],
   "execution_count": 7
  },
  {
   "metadata": {
    "ExecuteTime": {
     "end_time": "2024-08-06T11:19:12.518326Z",
     "start_time": "2024-08-06T11:19:12.500278Z"
    }
   },
   "cell_type": "code",
   "source": [
    "# dim=0 表示沿着行进行操作，列的行\n",
    "# dim=1 表示沿着列进行操作，行的列\n",
    "t = torch.tensor([[1, 2], \n",
    "                  [3, 4]])\n",
    "torch.gather(t, 0, torch.tensor([[0, 0], [1, 0]]))"
   ],
   "id": "8452c6cd34509172",
   "outputs": [
    {
     "data": {
      "text/plain": [
       "tensor([[1, 2],\n",
       "        [3, 2]])"
      ]
     },
     "execution_count": 10,
     "metadata": {},
     "output_type": "execute_result"
    }
   ],
   "execution_count": 10
  },
  {
   "metadata": {
    "ExecuteTime": {
     "end_time": "2024-08-06T11:19:14.447737Z",
     "start_time": "2024-08-06T11:19:14.430797Z"
    }
   },
   "cell_type": "code",
   "source": "torch.gather(t, 1, torch.tensor([[0, 0], [1, 0]]))",
   "id": "a55fe5a1503bf6be",
   "outputs": [
    {
     "data": {
      "text/plain": [
       "tensor([[1, 1],\n",
       "        [4, 3]])"
      ]
     },
     "execution_count": 11,
     "metadata": {},
     "output_type": "execute_result"
    }
   ],
   "execution_count": 11
  },
  {
   "metadata": {
    "ExecuteTime": {
     "end_time": "2024-08-06T11:21:21.056093Z",
     "start_time": "2024-08-06T11:21:21.047362Z"
    }
   },
   "cell_type": "code",
   "source": [
    "# 假设 input 是一个三维张量\n",
    "input = torch.tensor([\n",
    "    [[1, 2, 3], \n",
    "     [4, 5, 6], \n",
    "     [7, 8, 9]],\n",
    "    [[10, 11, 12], \n",
    "     [13, 14, 15], \n",
    "     [16, 17, 18]],\n",
    "    [[19, 20, 21], \n",
    "     [22, 23, 24], \n",
    "     [25, 26, 27]]\n",
    "])\n",
    "\n",
    "# ndex 是一个三维张量，其维度必须与 input 相同\n",
    "# index 的每个元素表示在 input 相应位置处要选择的索引\n",
    "index = torch.tensor([\n",
    "    [[0, 2, 1], [1, 0, 2], [2, 1, 0]],\n",
    "    [[2, 1, 0], [0, 2, 1], [1, 0, 2]],\n",
    "    [[1, 0, 2], [2, 1, 0], [0, 2, 1]]\n",
    "])\n",
    "\n",
    "# dim=0 表示沿着第一个维度（批处理维度）进行操作\n",
    "# dim=1 表示沿着第二个维度（行）进行操作\n",
    "# dim=2 表示沿着第三个维度（列）进行操作"
   ],
   "id": "initial_id",
   "outputs": [],
   "execution_count": 14
  },
  {
   "metadata": {
    "ExecuteTime": {
     "end_time": "2024-08-06T11:21:28.735162Z",
     "start_time": "2024-08-06T11:21:28.712333Z"
    }
   },
   "cell_type": "code",
   "source": [
    "# dim=0 表示沿着第一个维度（批处理维度）进行操作，每个批次的index对应位置\n",
    "torch.gather(input, dim=0, index=index)\n",
    "# [0,2,1] --> 0：第0批次的第1行的第1个元素。2：第2批次的第1行的第2个元素。1：第1批次的第1行的第3个元素。\n",
    "# [1,0,2] --> 1：第1批次的第2行的第1个元素。0：第0批次的第2行的第2个元素。2：第2批次的第2行的第3个元素。"
   ],
   "id": "da1107d1ad99d245",
   "outputs": [
    {
     "data": {
      "text/plain": [
       "tensor([[[ 1, 20, 12],\n",
       "         [13,  5, 24],\n",
       "         [25, 17,  9]],\n",
       "\n",
       "        [[19, 11,  3],\n",
       "         [ 4, 23, 15],\n",
       "         [16,  8, 27]],\n",
       "\n",
       "        [[10,  2, 21],\n",
       "         [22, 14,  6],\n",
       "         [ 7, 26, 18]]])"
      ]
     },
     "execution_count": 16,
     "metadata": {},
     "output_type": "execute_result"
    }
   ],
   "execution_count": 16
  },
  {
   "metadata": {
    "ExecuteTime": {
     "end_time": "2024-08-06T11:21:27.057205Z",
     "start_time": "2024-08-06T11:21:27.039911Z"
    }
   },
   "cell_type": "code",
   "source": [
    "# dim=1 表示沿着第二个维度（行）进行操作，每列的行\n",
    "torch.gather(input, dim=1, index=index)"
   ],
   "id": "e52e3a2fc2e2efaa",
   "outputs": [
    {
     "data": {
      "text/plain": [
       "tensor([[[ 1,  8,  6],\n",
       "         [ 4,  2,  9],\n",
       "         [ 7,  5,  3]],\n",
       "\n",
       "        [[16, 14, 12],\n",
       "         [10, 17, 15],\n",
       "         [13, 11, 18]],\n",
       "\n",
       "        [[22, 20, 27],\n",
       "         [25, 23, 21],\n",
       "         [19, 26, 24]]])"
      ]
     },
     "execution_count": 15,
     "metadata": {},
     "output_type": "execute_result"
    }
   ],
   "execution_count": 15
  },
  {
   "metadata": {
    "ExecuteTime": {
     "end_time": "2024-08-06T11:21:31.150545Z",
     "start_time": "2024-08-06T11:21:31.137545Z"
    }
   },
   "cell_type": "code",
   "source": [
    "# dim=2 表示沿着第三个维度（列）进行操作，每行的列\n",
    "torch.gather(input, dim=2, index=index)"
   ],
   "id": "9756b41b7aa0609",
   "outputs": [
    {
     "data": {
      "text/plain": [
       "tensor([[[ 1,  3,  2],\n",
       "         [ 5,  4,  6],\n",
       "         [ 9,  8,  7]],\n",
       "\n",
       "        [[12, 11, 10],\n",
       "         [13, 15, 14],\n",
       "         [17, 16, 18]],\n",
       "\n",
       "        [[20, 19, 21],\n",
       "         [24, 23, 22],\n",
       "         [25, 27, 26]]])"
      ]
     },
     "execution_count": 17,
     "metadata": {},
     "output_type": "execute_result"
    }
   ],
   "execution_count": 17
  },
  {
   "metadata": {},
   "cell_type": "code",
   "outputs": [],
   "execution_count": null,
   "source": "",
   "id": "5798f42e3030605b"
  }
 ],
 "metadata": {
  "kernelspec": {
   "display_name": "Python 3",
   "language": "python",
   "name": "python3"
  },
  "language_info": {
   "codemirror_mode": {
    "name": "ipython",
    "version": 2
   },
   "file_extension": ".py",
   "mimetype": "text/x-python",
   "name": "python",
   "nbconvert_exporter": "python",
   "pygments_lexer": "ipython2",
   "version": "2.7.6"
  }
 },
 "nbformat": 4,
 "nbformat_minor": 5
}
